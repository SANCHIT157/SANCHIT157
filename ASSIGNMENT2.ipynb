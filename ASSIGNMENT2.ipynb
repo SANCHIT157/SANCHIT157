{
  "nbformat": 4,
  "nbformat_minor": 0,
  "metadata": {
    "colab": {
      "provenance": [],
      "authorship_tag": "ABX9TyO4prV8epJ99nf6FHu3t6qG",
      "include_colab_link": true
    },
    "kernelspec": {
      "name": "python3",
      "display_name": "Python 3"
    },
    "language_info": {
      "name": "python"
    }
  },
  "cells": [
    {
      "cell_type": "markdown",
      "metadata": {
        "id": "view-in-github",
        "colab_type": "text"
      },
      "source": [
        "<a href=\"https://colab.research.google.com/github/SANCHIT157/SANCHIT157/blob/main/ASSIGNMENT2.ipynb\" target=\"_parent\"><img src=\"https://colab.research.google.com/assets/colab-badge.svg\" alt=\"Open In Colab\"/></a>"
      ]
    },
    {
      "cell_type": "code",
      "execution_count": null,
      "metadata": {
        "id": "I-i9btUmsxZ5"
      },
      "outputs": [],
      "source": [
        "# MAKING A SIMPLE CALCULATOR\n",
        "print(\"ENTER TWO NUMBERS\")\n",
        "a= int(input())\n",
        "b= int(input())\n",
        "print(\"ENTER THE OPERATION TO BE PERFORMED\\nPRESS 1 FOR ADDITION\\nPRESS 2 FOR SUBSTRACTION\\nPRESS 3 FOR MULTIPLICATION\\nPRESS 4 FOR DIVISION\")\n",
        "k=int(input())\n",
        "if(k==1):\n",
        "    print(\"SUM= \",(a+b))\n",
        "elif(k==2):\n",
        "    print(\"RESULTANT= \",(a-b))\n",
        "elif(k==3):\n",
        "    print(\"PRODUCT= \",(a*b))\n",
        "elif(k==4):\n",
        "    print(\"RESULTANT= \",(a/b))\n",
        "else:\n",
        "    print(\"INVALID INPUT\")"
      ]
    }
  ]
}