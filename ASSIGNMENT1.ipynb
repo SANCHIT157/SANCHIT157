{
  "nbformat": 4,
  "nbformat_minor": 0,
  "metadata": {
    "colab": {
      "provenance": [],
      "authorship_tag": "ABX9TyPGmqzV9Vj7b2/pYgn8s3Qs",
      "include_colab_link": true
    },
    "kernelspec": {
      "name": "python3",
      "display_name": "Python 3"
    },
    "language_info": {
      "name": "python"
    }
  },
  "cells": [
    {
      "cell_type": "markdown",
      "metadata": {
        "id": "view-in-github",
        "colab_type": "text"
      },
      "source": [
        "<a href=\"https://colab.research.google.com/github/SANCHIT157/SANCHIT157/blob/main/ASSIGNMENT1.ipynb\" target=\"_parent\"><img src=\"https://colab.research.google.com/assets/colab-badge.svg\" alt=\"Open In Colab\"/></a>"
      ]
    },
    {
      "cell_type": "code",
      "execution_count": null,
      "metadata": {
        "id": "YG9HQyo9vwHU"
      },
      "outputs": [],
      "source": [
        "\n",
        "# OPERATIONS IN TUPLES\n",
        "my_tuple1= (\"facts\",\"data\",\"information\",\"knowledge\",\"wisdom\")\n",
        "my_tuple2= (1,2,3,4,5)\n",
        "for k in range(len(my_tuple1)):\n",
        "    print(my_tuple2[k],\"-\",my_tuple1[k])"
      ]
    },
    {
      "cell_type": "code",
      "source": [
        "# OPERATIONS IN SETS\n",
        "set1 = set()\n",
        "set2 = set()\n",
        "print(\"ENTER NAMES OF THOSE STUDENTS WHO SCORED FULL MARKS IN PHYSICS\")\n",
        "for k in range(6):\n",
        "    set1.add(input())\n",
        "print(\"ENTER NAMES OF THOSE STUDENTS WHO SCORED FULL MARKS IN CHEMISTRY \")\n",
        "for k in range(6):\n",
        "    set2.add(input())\n",
        "print(\"NAMES OF THOSE STUDENTS WHO SCORED FULL MARKS IN PHYSICS AS WELL AS CHEMISTRY - \",(set1&set2))"
      ],
      "metadata": {
        "id": "pdrel2Wbv2XY"
      },
      "execution_count": null,
      "outputs": []
    },
    {
      "cell_type": "code",
      "source": [
        "# OPERATIONS IN LISTS\n",
        "list_name = []\n",
        "list_marks = []\n",
        "print(\"ENTER THE NAMES AND MARKS OF 5 STUDENTS\")\n",
        "for k in range(5):\n",
        "    list_name.append(input())\n",
        "    list_marks.append(int(input()))\n",
        "print(\"NAMES OF STUDENTS WHO SCORED MORE THAN 90\")\n",
        "for k in range(5):\n",
        "    if list_marks[k]>90:\n",
        "     print(list_name[k],\"-\",list_marks[k])"
      ],
      "metadata": {
        "id": "1MGN30dhwGxx"
      },
      "execution_count": null,
      "outputs": []
    },
    {
      "cell_type": "code",
      "source": [
        "# USE OF FUNCTIONS \n",
        "def add(a,b):\n",
        " print(\"SUM = \",(a+b)) \n",
        "\n",
        "def mul(a,b):\n",
        " print(\"PRODUCT = \",(a*b))\n",
        "\n",
        "add(5,20)\n",
        "mul(5,20)"
      ],
      "metadata": {
        "id": "Mv7tLJuFwaEh"
      },
      "execution_count": null,
      "outputs": []
    },
    {
      "cell_type": "code",
      "source": [
        "# USE OF DICTIONARY \n",
        "# WAP TO TAKE NAMES AND MARKS OF 5 STUDENTS AS INPUT AND DISPLAY THE NAMES OF THOSE STUDENTS ALONG WITH THEIR MARKS.\n",
        "my_name=input(\"ENTER A NAME\")\n",
        "marks=input(\"ENTER MARKS\")\n",
        "my_dic={my_name:marks}\n",
        "for i in range(4):\n",
        "   my_name=input(\"ENTER NAME\")\n",
        "   marks=input(\"ENTER MARKS\")\n",
        "   my_dic[my_name]=marks\n",
        "print(my_dic)"
      ],
      "metadata": {
        "id": "x2S28nK_wby9"
      },
      "execution_count": null,
      "outputs": []
    }
  ]
}